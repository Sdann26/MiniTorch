{
 "cells": [
  {
   "cell_type": "code",
   "execution_count": 1,
   "id": "fd3470a9",
   "metadata": {},
   "outputs": [
    {
     "name": "stdout",
     "output_type": "stream",
     "text": [
      "\n"
     ]
    }
   ],
   "source": [
    "'''\n",
    "    Para comenzar con la instalación de minitorch en Windows seguiremos los siguiente pasos:\n",
    "    1. Creamos un espacio de trabajo: mkdir workspace\n",
    "    2. Ingresamos a este: cd workspace \n",
    "    3. Creamos el entorno: python -m venv venv \n",
    "    4. Activamos el entorno: .\\venv\\Scripts\\activate\n",
    "    5. Clonamos el modulo a trabajar: git clone https://github.com/minitorch/Module-0\n",
    "    6. Ingresamos al modulo: cd Modulo-0\n",
    "    7. Ingresamos las siguientes lineas para descargar minitorch:\n",
    "            python -m pip install -r requirements.txt\n",
    "            python -m pip install -r requirements.extra.txt\n",
    "            python -m pip install -Ue .\n",
    "    8. Una vez instalado todo solo queda ingresar al workspace a modulo 0\n",
    "'''\n",
    "print()"
   ]
  },
  {
   "cell_type": "code",
   "execution_count": 2,
   "id": "90b75241",
   "metadata": {},
   "outputs": [],
   "source": [
    "import minitorch"
   ]
  },
  {
   "cell_type": "markdown",
   "id": "74d33f88",
   "metadata": {},
   "source": [
    "En esta primera parte se verá algunos conceptos previos para el futuro entendimiento de las demás lecciones"
   ]
  },
  {
   "cell_type": "markdown",
   "id": "b2b95778",
   "metadata": {},
   "source": [
    "## Conjunto de Datos \n",
    "\n",
    "Para abordar problemas de aprendizaje supervisado se trabaja con datos que han sido previamente etiquetados (clasificados). Este conjunto de datos puede tener varias coordenadas (características) pero para una visualización más sencilla veamos el siguiente ejemplo de datos etiquetados y distribuidos en dos coordenadas."
   ]
  },
  {
   "cell_type": "markdown",
   "id": "f59f90d4",
   "metadata": {},
   "source": [
    " ![Imagen](https://minitorch.github.io/_images/split.png)"
   ]
  },
  {
   "cell_type": "markdown",
   "id": "46cad3e4",
   "metadata": {},
   "source": [
    "Como se puede apreciar tenemos datos que están etiquetados como **X** y como **O** además que están distribuidos en un espacio bidimensional.\n",
    "\n",
    "Esta es una forma de cómo puede estar representado un conjunto de datos, más adelante se abordaran en la guía diferentes formas de cómo están distribuidos los conjuntos a tratar."
   ]
  },
  {
   "cell_type": "markdown",
   "id": "d1945e82",
   "metadata": {},
   "source": [
    "## Modelo\n",
    "\n",
    "Un modelo es una función la cual permite clasificar los puntos de datos. Lo que se busca al usar estos modelos es *ajustarlos* a la medida de lo posible para poder clasificar correctamente nuestros datos.\n",
    "\n",
    "Una de las características más importantes de estos es que pueden adoptar diferentes formas, lo cual nos permite ajustar el modelo según nos convenga teniendo así desde formas irregulares hasta regiones desconectadas.\n",
    "\n",
    "Nosotros, como programadores, podemos trabajar con *clases modelos* ,las cuales mediante las funciones que implementemos en nuestros sistemas podemos ir evaluándolas con el fin de obtener un buen modelo que se adapte a nuestros datos. A esto es lo que llamamos *Machine Leaning*.\n",
    "\n",
    "Un ejemplo de clase modelo es la clase de regresión lineal la cual podemos apreciar en la siguiente imagen."
   ]
  },
  {
   "cell_type": "markdown",
   "id": "c8d97968",
   "metadata": {},
   "source": [
    " ![Imagen](https://www.ingenieriaindustrialonline.com/wp-content/uploads/2019/07/Sin-t%C3%ADtulo-174.png)"
   ]
  },
  {
   "cell_type": "markdown",
   "id": "2b1638e1",
   "metadata": {},
   "source": [
    "## Parámetros\n",
    "\n",
    "Una forma mediante la cual podemos ir modificando nuestro modelo es mediante el uso de parámetros. Estos son un conjunto de valores numéricos que definen completamente las decisiones de un modelo. Los parámetros son críticos para almacenar cómo actúa un modelo y necesarios para producir su decisión sobre un punto de datos dado.\n",
    "\n",
    "Para ejemplificar mejor esto podemos visualizar algunos cambios en los modelos de regresión lineal, por ejemplo: "
   ]
  },
  {
   "cell_type": "markdown",
   "id": "f02b276c",
   "metadata": {},
   "source": [
    "1. Rotando el separador lineal (\"Pendiente\")\n",
    " \n",
    "![Imagen](https://minitorch.github.io/_images/weight.png)\n",
    " \n",
    "2. Cambiar el corte del separador (\"Interceptar\")\n",
    " \n",
    "![Imagen](https://minitorch.github.io/_images/bias.png)\n",
    " "
   ]
  },
  {
   "cell_type": "markdown",
   "id": "af031d1e",
   "metadata": {},
   "source": [
    "Los ejemplos anteriores son interpretaciones visuales al usar un modelo de regresión lineal en un espacio bidimensional pero matemáticamente esto se vería representado de esta forma: \n",
    "\n",
    "![Imagen](data:image/png;base64,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)"
   ]
  },
  {
   "cell_type": "markdown",
   "id": "ab6760d2",
   "metadata": {},
   "source": [
    "Siendo:\n",
    "- m: La función del modelo\n",
    "- x1, x2: Punto de entrada\n",
    "- w1, w2, b: Parámetros"
   ]
  },
  {
   "cell_type": "markdown",
   "id": "e6093eb1",
   "metadata": {},
   "source": [
    "## Pérdida\n",
    "\n"
   ]
  },
  {
   "cell_type": "markdown",
   "id": "d244eb73",
   "metadata": {},
   "source": [
    "Esta es una función que nos permite clasificar que modelo es bueno y cual no. Esta función se basará en la distancia y la dirección de la línea desde cada punto hasta el límite de decisión. Nosotros esperamos que esta función tienda a 0 ya que esto nos dirá si el modelo es bueno.\n",
    "\n",
    "Nuestra función de pérdida se basará en la distancia y la dirección de la línea desde cada punto hasta el límite de decisión. \n",
    "\n",
    "La función más utilizada (y en la que nos centraremos) es la función sigmoidea ya que esta función nos determina la perdida en función de la distancia. "
   ]
  },
  {
   "cell_type": "markdown",
   "id": "d17af4a6",
   "metadata": {},
   "source": [
    "![Imagen](https://minitorch.github.io/_images/sigmoid2.png)"
   ]
  },
  {
   "cell_type": "markdown",
   "id": "5adfe148",
   "metadata": {},
   "source": [
    "En la imagen anterior se puede apreciar la función sigmoidea, además para el punto a la izquierda su valor es cercano a 0 pues nos da poca perdida al estar bien clasificado y alejado del límite de decisión, el punto del medio está bien clasificado pero muy cercano a ser del otro tipo de etiqueta por lo cual a pesar de que la perdida es poca crece exponencialmente mientras más se acerca a ser clasificado lo contrario, por último, el punto a la derecha es el cual ha sido mal clasificado por eso este valor tiende a 1 según más alejado este del límite de decisión.\n",
    "\n",
    "La pérdida total de un modelo es el producto de cada una de las pérdidas individuales. "
   ]
  },
  {
   "cell_type": "markdown",
   "id": "3e67f2f0",
   "metadata": {},
   "source": [
    "## Parámetros de Ajuste \n",
    "\n",
    "Recapitulando los conceptos anteriores, la clase de modelo nos dice qué modelos podemos considerar; los parámetros, nos dicen cómo especificar un modelo dado y la pérdida, nos dice qué tan bueno es nuestro modelo actual.\n",
    "\n",
    "Ahora para poder ajustar un modelo correctamente podemos usar como herramienta los módulos de MiniTorch ya que el proceso de ajustar los parámetros suele ser bastante complicado, pero con este módulo lo podemos hacer de manera automática y eficiente.\n",
    "\n",
    "Esta biblioteca se centra en una forma de ajuste de parámetros: descenso de gradiente. La cual sigue los siguientes pasos.\n",
    "\n",
    "1. Calcule la función de pérdida, L, para los datos con los parámetros.\n",
    "2. Vea cómo los pequeños cambios en cada uno de los parámetros cambiarían la pérdida.\n",
    "3. Actualice los parámetros con un pequeño cambio en la dirección que localmente reduzca más la pérdida.\n",
    "\n",
    "\n"
   ]
  },
  {
   "cell_type": "markdown",
   "id": "8964a216",
   "metadata": {},
   "source": [
    "![Imagen](https://minitorch.github.io/_images/move.png)"
   ]
  },
  {
   "cell_type": "markdown",
   "id": "b32aca86",
   "metadata": {},
   "source": [
    "## Redes Neuronales\n",
    "\n",
    "Las redes neuronales son un modelo para encontrar una combinación de parámetros y aplicarlos a nuestro conjunto de datos. Se pueden utilizar para especificar una gama mucho más amplia de separadores. Por ejemplo a la hora de utilizar nuestro modelo de regresión lineal tenemos la problematica nuestro conjunto de datos no puedan ser separados solo en dos regiones mas bien sea mayor a esto. \n",
    "\n",
    "![Imagen](https://minitorch.github.io/_images/splitfail.png)"
   ]
  },
  {
   "cell_type": "markdown",
   "id": "d4861a37",
   "metadata": {},
   "source": [
    "Las redes neuronales dividen la clasificación en dos o más etapas con lo cual pueden generar mejores regiones de clasificación.\n",
    "\n",
    "![Imagen](https://minitorch.github.io/_images/mlpgraph.png)"
   ]
  },
  {
   "cell_type": "markdown",
   "id": "62d3510c",
   "metadata": {},
   "source": [
    "Cada etapa utiliza un modelo lineal para remodelar los datos en nuevos puntos. La etapa final es un clasificador lineal sobre el punto transformado. La red neuronal puede transformar los puntos en función de la distancia desde estos separadores (muy similar a la función de pérdida anterior). Puede utilizar cualquier función que desee para realizar esta transformación.\n",
    "\n",
    "Matemáticamente podemos pensar en los datos transformados como valores **h1**, **h2** que obtenemos al aplicar separadores con diferentes parámetros a los datos originales. La predicción final luego aplica un separador a **h1**, **h2**.\n",
    "\n",
    "![Imagen](data:image/png;base64,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)\n",
    "\n",
    "La función ReLU, Unidad Lineal Rectificada, es la cual nos permite realizar las separaciones. "
   ]
  },
  {
   "cell_type": "markdown",
   "id": "0706a03f",
   "metadata": {},
   "source": [
    "Esta red neuronal será el foco principal de los primeros modelos."
   ]
  }
 ],
 "metadata": {
  "kernelspec": {
   "display_name": "Python 3",
   "language": "python",
   "name": "python3"
  },
  "language_info": {
   "codemirror_mode": {
    "name": "ipython",
    "version": 3
   },
   "file_extension": ".py",
   "mimetype": "text/x-python",
   "name": "python",
   "nbconvert_exporter": "python",
   "pygments_lexer": "ipython3",
   "version": "3.8.8"
  }
 },
 "nbformat": 4,
 "nbformat_minor": 5
}
